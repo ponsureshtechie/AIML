{
 "cells": [
  {
   "cell_type": "markdown",
   "metadata": {},
   "source": [
    "#                              L&T EduTech\n",
    "#           St.Vincent Palloti College of Engineering\n",
    "#                             AIML Notebook - W1"
   ]
  },
  {
   "cell_type": "markdown",
   "metadata": {},
   "source": [
    "#### Central Tendency: Mean, Median, and Mode\n",
    "       Central tendency is defined as “the statistical measure that identifies a single value as representative of an entire distribution.” It aims to provide an accurate description of the entire data. It is the single value that is most typical/representative of the collected data.\n",
    "       \n",
    "       The mean, median and mode are the three commonly used measures of central tendency [1]. Python uses three packages that supports the statisitcal computation. \n",
    "       \n",
    "       They are,\n",
    "            > Python's statistics buil-in library\n",
    "            > NumPy (third party library)\n",
    "            > SciPy (third party library)\n",
    "            > Pandas \n",
    "    [1] https://www.ncbi.nlm.nih.gov/pmc/articles/PMC3127352/"
   ]
  },
  {
   "cell_type": "code",
   "execution_count": 17,
   "metadata": {},
   "outputs": [],
   "source": [
    "#importing the required packages\n",
    "import math\n",
    "import statistics as stat\n",
    "import numpy as np\n",
    "import scipy.stats as ss\n",
    "import pandas as pd"
   ]
  },
  {
   "cell_type": "code",
   "execution_count": 18,
   "metadata": {},
   "outputs": [
    {
     "name": "stdout",
     "output_type": "stream",
     "text": [
      "<class 'list'>\n",
      "[1, 2, 3, 4, 5, 6]\n",
      "[7, 6, 5, 4, 3, 2, 1]\n",
      "[1, 2, nan, 4, 5, 6]\n",
      "[7, 6, 5, nan, 3, 2, 1]\n",
      "<class 'numpy.ndarray'>\n"
     ]
    }
   ],
   "source": [
    "#data to be used\n",
    "x=[1,2,3,4,5,6] \n",
    "y=[7,6,5,4,3,2,1]\n",
    "x_nan=[1,2,math.nan,4,5,6]  #nan denotes \"Not a Number\" - a common scenario in data analytics\n",
    "y_nan=[7,6,5,math.nan,3,2,1]\n",
    "\n",
    "print(type(x))\n",
    "print(x)\n",
    "print(y)\n",
    "print(x_nan)\n",
    "print(y_nan)\n",
    "y=np.array(y)\n",
    "y_nan=np.array(y_nan)\n",
    "print(type(y))"
   ]
  },
  {
   "cell_type": "code",
   "execution_count": 19,
   "metadata": {},
   "outputs": [
    {
     "name": "stdout",
     "output_type": "stream",
     "text": [
      "stat mean of x: 3.5\n",
      "stat mean of x_nan: nan\n",
      "np mean of list x: 3.5\n",
      "np mean of list x_nan: nan\n",
      "np mean of np array y: 4.0\n",
      "np mean of np array y_nan: 4.0\n"
     ]
    }
   ],
   "source": [
    "#finding the mean of the data - stat and numpy\n",
    "print(\"stat mean of x:\",stat.mean(x))\n",
    "print(\"stat mean of x_nan:\",stat.mean(x_nan))\n",
    "print(\"np mean of list x:\",np.mean(x))\n",
    "print(\"np mean of list x_nan:\",np.mean(x_nan))\n",
    "print(\"np mean of np array y:\",y.mean())\n",
    "print(\"np mean of np array y_nan:\",np.nanmean(y_nan))\n"
   ]
  },
  {
   "cell_type": "code",
   "execution_count": 20,
   "metadata": {},
   "outputs": [
    {
     "name": "stdout",
     "output_type": "stream",
     "text": [
      "<class 'pandas.core.series.Series'>\n",
      "0    1\n",
      "1    2\n",
      "2    3\n",
      "3    4\n",
      "4    5\n",
      "5    6\n",
      "dtype: int64\n",
      "3.5\n",
      "0    1.0\n",
      "1    2.0\n",
      "2    NaN\n",
      "3    4.0\n",
      "4    5.0\n",
      "5    6.0\n",
      "dtype: float64\n",
      "3.6\n"
     ]
    }
   ],
   "source": [
    "#finding the mean of the data - pandas\n",
    "z=pd.Series(x)\n",
    "z_nan=pd.Series(x_nan)\n",
    "print(type(z))\n",
    "print(z)\n",
    "print(z.mean())\n",
    "print(z_nan)\n",
    "print(z_nan.mean())"
   ]
  },
  {
   "cell_type": "markdown",
   "metadata": {},
   "source": [
    "##### Mean    \n",
    "    The sample mean, also called the sample arithmetic mean or simply the average, is the arithmetic average of all the items in a dataset. The mean of a dataset 𝑥 is mathematically expressed as Σᵢ𝑥ᵢ/𝑛, where 𝑖 = 1, 2, …, 𝑛. In other words, it’s the sum of all the elements 𝑥ᵢ divided by the number of items in the dataset 𝑥.\n",
    "    The variations of mean are, \n",
    "        > Weighted mean           \n",
    "        > Geometric mean\n",
    "        > Harmonic mean\n",
    "    Some libraries have methods that suuport these variations. Let's quickly run through all these variations below,"
   ]
  },
  {
   "cell_type": "markdown",
   "metadata": {},
   "source": [
    "> The <i>weighted mean</i>, also called the weighted arithmetic mean or weighted average, is a generalization of the arithmetic mean that enables you to define the relative contribution of each data point to the result.\n",
    "            Define the weight 𝑤ᵢ for each data point 𝑥ᵢ of the dataset 𝑥, where 𝑖 = 1, 2, …, 𝑛 and 𝑛 is the number of items in 𝑥. Then, multiply each data point with the corresponding weight, sum all the products, and divide the obtained sum with the sum of weights: Σᵢ(𝑤ᵢ𝑥ᵢ) / Σᵢ𝑤ᵢ.\n",
    "            Usually, 𝑤ᵢ>=0 and Σᵢ𝑤ᵢ=1."
   ]
  },
  {
   "cell_type": "code",
   "execution_count": 21,
   "metadata": {},
   "outputs": [
    {
     "name": "stdout",
     "output_type": "stream",
     "text": [
      "8.904761904761903\n",
      "8.904761904761903\n"
     ]
    }
   ],
   "source": [
    "#weighted mean\n",
    "x=[1,6,8,12,14,4]\n",
    "w=[0.2,0.4,0.35,0.15,0.75,0.25]\n",
    "y,w=np.array(x),np.array(w)\n",
    "wm=np.average(y,weights=w) #using numpy average method - np array as input\n",
    "print(wm)\n",
    "z=pd.Series(x)\n",
    "wm1=np.average(z,weights=w) #using numpy average method - pd series as input\n",
    "print(wm1)"
   ]
  },
  {
   "cell_type": "markdown",
   "metadata": {},
   "source": [
    "> The <i>harmonic mean</i> is the reciprocal of the mean of the reciprocals of all items in the dataset: 𝑛 / Σᵢ(1/𝑥ᵢ), where 𝑖 = 1, 2, …, 𝑛 and 𝑛 is the number of items in the dataset 𝑥."
   ]
  },
  {
   "cell_type": "code",
   "execution_count": 22,
   "metadata": {},
   "outputs": [
    {
     "name": "stdout",
     "output_type": "stream",
     "text": [
      "hmean using stat lib: 3.536842105263158\n"
     ]
    }
   ],
   "source": [
    "#harmonic mean using stat library\n",
    "hmean=stat.harmonic_mean(y)\n",
    "print(\"hmean using stat lib:\",hmean)"
   ]
  },
  {
   "cell_type": "markdown",
   "metadata": {},
   "source": [
    "> Note that If you have a <i>nan</i> value in a dataset, then it will return nan. If there’s at least one 0, then it will return 0. If you provide at least one negative number, then you’ll get statistics.StatisticsError."
   ]
  },
  {
   "cell_type": "code",
   "execution_count": 23,
   "metadata": {},
   "outputs": [
    {
     "name": "stdout",
     "output_type": "stream",
     "text": [
      "hmean using scipy.stats is: 3.536842105263158\n"
     ]
    }
   ],
   "source": [
    "#harmonic mean using scipy.stats library\n",
    "hmean1=ss.hmean(y)\n",
    "print(\"hmean using scipy.stats is:\",hmean1)"
   ]
  },
  {
   "cell_type": "markdown",
   "metadata": {},
   "source": [
    "> The <i>geometric mean</i> is the 𝑛-th root of the product of all 𝑛 elements 𝑥ᵢ in a dataset 𝑥: ⁿ√(Πᵢ𝑥ᵢ), where 𝑖 = 1, 2, …, 𝑛. The following figure illustrates the arithmetic, harmonic, and geometric means of a dataset:"
   ]
  },
  {
   "cell_type": "code",
   "execution_count": 24,
   "metadata": {},
   "outputs": [
    {
     "name": "stdout",
     "output_type": "stream",
     "text": [
      "3.7.4\n",
      "5.642026024680419\n"
     ]
    }
   ],
   "source": [
    "#geometric mean\n",
    "from platform import python_version\n",
    "print(python_version())\n",
    "#gmean=stat.geometric_mean(y) #available from python 3.8... :-(\n",
    "# print(gmean)\n",
    "gmean=ss.gmean(y)\n",
    "print(gmean)"
   ]
  },
  {
   "cell_type": "markdown",
   "metadata": {},
   "source": [
    "#### Median\n",
    "    > The sample median is the middle element of a sorted dataset. The dataset can be sorted in increasing or decreasing order. \n",
    "    > If the number of elements 𝑛 of the dataset is odd, then the median is the value at the middle position: 0.5(𝑛 + 1). \n",
    "    > If 𝑛 is even, then the median is the arithmetic mean of the two values in the middle, that is, the items at the positions 0.5𝑛 and 0.5𝑛 + 1."
   ]
  },
  {
   "cell_type": "code",
   "execution_count": 25,
   "metadata": {},
   "outputs": [
    {
     "name": "stdout",
     "output_type": "stream",
     "text": [
      "[1, 4, 6, 8, 12, 14]\n",
      "7.0\n",
      "Median low: 6\n",
      "Median high: 8\n",
      "8\n",
      "[ 7.  6.  5. nan  3.  2.  1.]\n",
      "median of nan list: 5.0\n"
     ]
    }
   ],
   "source": [
    "#meadian using stat\n",
    "med=stat.median(x)\n",
    "print(sorted(x))\n",
    "print(med)\n",
    "print(\"Median low:\",stat.median_low(x))\n",
    "print(\"Median high:\",stat.median_high(x))\n",
    "#print(x[:-1])\n",
    "med1=stat.median(x[:-1])\n",
    "print(med1)\n",
    "print(y_nan)\n",
    "print(\"median of nan list:\",stat.median(y_nan))"
   ]
  },
  {
   "cell_type": "code",
   "execution_count": 26,
   "metadata": {},
   "outputs": [
    {
     "name": "stdout",
     "output_type": "stream",
     "text": [
      "0.3\n",
      "4.0\n",
      "0     1\n",
      "1     6\n",
      "2     8\n",
      "3    12\n",
      "4    14\n",
      "5     4\n",
      "dtype: int64\n",
      "median using pandas: 7.0\n",
      "0    1.0\n",
      "1    2.0\n",
      "2    NaN\n",
      "3    4.0\n",
      "4    5.0\n",
      "5    6.0\n",
      "dtype: float64\n",
      "nan median using pandas: 4.0\n"
     ]
    }
   ],
   "source": [
    "#median using numpy\n",
    "med2=np.median(w)\n",
    "print(med2)\n",
    "print(np.nanmedian(y_nan))\n",
    "#median using pandas series\n",
    "med3=z.median()\n",
    "print(z)\n",
    "print(\"median using pandas:\",med3)\n",
    "med4=z_nan.median()\n",
    "print(z_nan)\n",
    "print(\"nan median using pandas:\",med4)"
   ]
  },
  {
   "cell_type": "markdown",
   "metadata": {},
   "source": [
    "#### Mode\n",
    "       The sample mode is the value in the dataset that occurs most frequently. If there isn’t a single such value, then the set is multimodal since it has multiple modal values"
   ]
  },
  {
   "cell_type": "code",
   "execution_count": 27,
   "metadata": {},
   "outputs": [
    {
     "name": "stdout",
     "output_type": "stream",
     "text": [
      "3\n",
      "nan\n"
     ]
    }
   ],
   "source": [
    "#mode using stat \n",
    "m=[1,2,3,3,4,5]\n",
    "print(stat.mode(m))\n",
    "#print(stat.multimode(m)) #avl in python>=3.8\n",
    "m1=[1,2,1,2,3,3]\n",
    "#print(stat.mode(m1)) #raises Stat.Error\n",
    "#print(stat.multimode(m1)) #provides the output list of 1,2,3\n",
    "m2=[1,2,math.nan,3,math.nan]\n",
    "print(stat.mode(m2))"
   ]
  },
  {
   "cell_type": "code",
   "execution_count": 28,
   "metadata": {},
   "outputs": [
    {
     "name": "stdout",
     "output_type": "stream",
     "text": [
      "['nale' 'nale' 'nale' 'male' 'male' 'male' 'female' 'female' 'female'\n",
      " 'gan' 'gan' 'gan']\n",
      "ModeResult(mode=array(['female'], dtype='<U6'), count=array([3]))\n",
      "mode value ['female']\n",
      "count [3]\n"
     ]
    }
   ],
   "source": [
    "#mode using scipy -- From my interpreteation, it works based on the first letter\n",
    "#a=np.array(['b','b','b','b','n','n','n','n','a','a','a','a'])\n",
    "#a=np.array(['ba','ba','ba','ba','n','n','n','n','ab','ab','ab','ab'])\n",
    "a=np.array(['nale','nale','nale','male','male','male','female','female','female','gan','gan','gan'])\n",
    "print(a)\n",
    "mode1=ss.mode(a)\n",
    "print(mode1)\n",
    "print(\"mode value\",mode1.mode)\n",
    "print(\"count\",mode1.count)"
   ]
  },
  {
   "cell_type": "code",
   "execution_count": null,
   "metadata": {},
   "outputs": [],
   "source": []
  },
  {
   "cell_type": "code",
   "execution_count": 29,
   "metadata": {},
   "outputs": [
    {
     "name": "stdout",
     "output_type": "stream",
     "text": [
      "0    female\n",
      "1       gan\n",
      "2      male\n",
      "3      nale\n",
      "dtype: object\n"
     ]
    }
   ],
   "source": [
    "#mode using pandas\n",
    "a=pd.Series(a)\n",
    "print(a.mode())"
   ]
  },
  {
   "cell_type": "markdown",
   "metadata": {},
   "source": [
    "## Measures of Variability \n",
    "- Measures of variability quantifies the spread of data points. Generally, the measures of variability are Variance, Standard deviation, Skewness, Percentiles, Ranges.\n",
    "#### Variance\n",
    "   - The sample variance quantifies the spread of the data. It shows numerically how far the data points are from the mean. You can express the sample variance of the dataset 𝑥 with 𝑛 elements mathematically as 𝑠² = Σᵢ(𝑥ᵢ − mean(𝑥))² / (𝑛 − 1), where 𝑖 = 1, 2, …, 𝑛 and mean(𝑥) is the sample mean of 𝑥. "
   ]
  },
  {
   "cell_type": "code",
   "execution_count": 30,
   "metadata": {},
   "outputs": [
    {
     "name": "stdout",
     "output_type": "stream",
     "text": [
      "23.9\n",
      "nan\n",
      "var w/o ddof -- (/n) 2.0\n",
      "var with ddof -- (/n-1) 2.5\n",
      "2.5\n",
      "var using pands: 2.5\n",
      "nan var using pandas 2.5\n"
     ]
    }
   ],
   "source": [
    "#variacnce using stat \n",
    "var=stat.variance(x)\n",
    "print(var)\n",
    "var=stat.variance(x_nan)\n",
    "print(var)\n",
    "#variance using numpy\n",
    "a=np.array([1,2,3,4,5])\n",
    "var=np.var(a)\n",
    "print(\"var w/o ddof -- (/n)\",var)\n",
    "var=np.var(a,ddof=1) #ddof - delta degrees of freedom\n",
    "print(\"var with ddof -- (/n-1)\",var)\n",
    "#variance with nan values\n",
    "a_nan=np.array([1,2,math.nan,3,4,5])\n",
    "print(np.nanvar(a_nan,ddof=1))\n",
    "\n",
    "#variance using pandas\n",
    "a=pd.Series([1,2,3,4,5])\n",
    "print(\"var using pands:\",a.var())\n",
    "a_nan=pd.Series(a_nan)\n",
    "print(\"nan var using pandas\",a_nan.var())"
   ]
  },
  {
   "cell_type": "markdown",
   "metadata": {},
   "source": [
    "#### Standard Deviation\n",
    "   - The sample standard deviation is another measure of data spread. It’s connected to the sample variance, as standard deviation, 𝑠, is the positive square root of the sample variance. The standard deviation is often more convenient than the variance because it has the same unit as the data points."
   ]
  },
  {
   "cell_type": "code",
   "execution_count": 31,
   "metadata": {},
   "outputs": [
    {
     "name": "stdout",
     "output_type": "stream",
     "text": [
      "[1, 6, 8, 12, 14, 4]\n",
      "4.888762624632126\n"
     ]
    }
   ],
   "source": [
    "std=stat.stdev(x)\n",
    "print(x)\n",
    "print(std)"
   ]
  },
  {
   "cell_type": "code",
   "execution_count": 32,
   "metadata": {},
   "outputs": [
    {
     "name": "stdout",
     "output_type": "stream",
     "text": [
      "[ 1  6  8 12 14  4]\n",
      "<class 'numpy.ndarray'>\n",
      "4.4628092796652945\n",
      "4.888762624632126\n",
      "std with nan: 2.160246899469287\n"
     ]
    }
   ],
   "source": [
    "#std dev using numpy\n",
    "std1=np.std(y)\n",
    "print(y)\n",
    "print(type(y))\n",
    "print(std1)\n",
    "print(y.std(ddof=1))\n",
    "stdnan=np.nanstd(y_nan)\n",
    "#print(y_nan)\n",
    "print(\"std with nan:\",stdnan)"
   ]
  },
  {
   "cell_type": "markdown",
   "metadata": {},
   "source": [
    "## Probability Density Function\n",
    "        The Probability Density Function (PDF) is a mathematical function that describes the relative probability of a random variable taking on certain values. \n",
    "        In other words, it provides a representation of the probability distribution of a continuous variable. \n",
    "        The PDF is non-negative and the area under the curve is 1, as it represents the total probability.\n",
    "        The PDF is often denoted as (f(x)), where (x) represents the value of the random variable."
   ]
  },
  {
   "cell_type": "code",
   "execution_count": 33,
   "metadata": {
    "scrolled": true
   },
   "outputs": [
    {
     "name": "stdout",
     "output_type": "stream",
     "text": [
      "[1.48671951e-06 1.56294518e-06 1.64291438e-06 1.72680223e-06\n",
      " 1.81479157e-06 1.90707332e-06 2.00384677e-06 2.10531999e-06\n",
      " 2.21171010e-06 2.32324372e-06 2.44015731e-06 2.56269761e-06\n",
      " 2.69112199e-06 2.82569895e-06 2.96670852e-06 3.11444274e-06\n",
      " 3.26920615e-06 3.43131624e-06 3.60110404e-06 3.77891458e-06\n",
      " 3.96510749e-06 4.16005756e-06 4.36415530e-06 4.57780761e-06\n",
      " 4.80143840e-06 5.03548920e-06 5.28041992e-06 5.53670947e-06\n",
      " 5.80485658e-06 6.08538047e-06 6.37882168e-06 6.68574289e-06\n",
      " 7.00672970e-06 7.34239154e-06 7.69336257e-06 8.06030255e-06\n",
      " 8.44389784e-06 8.84486240e-06 9.26393876e-06 9.70189908e-06\n",
      " 1.01595463e-05 1.06377152e-05 1.11372736e-05 1.16591234e-05\n",
      " 1.22042022e-05 1.27734842e-05 1.33679815e-05 1.39887459e-05\n",
      " 1.46368699e-05 1.53134881e-05 1.60197791e-05 1.67569666e-05\n",
      " 1.75263212e-05 1.83291622e-05 1.91668589e-05 2.00408326e-05\n",
      " 2.09525584e-05 2.19035668e-05 2.28954459e-05 2.39298433e-05\n",
      " 2.50084680e-05 2.61330924e-05 2.73055547e-05 2.85277610e-05\n",
      " 2.98016873e-05 3.11293824e-05 3.25129696e-05 3.39546498e-05\n",
      " 3.54567035e-05 3.70214940e-05 3.86514694e-05 4.03491658e-05\n",
      " 4.21172102e-05 4.39583229e-05 4.58753211e-05 4.78711216e-05\n",
      " 4.99487441e-05 5.21113142e-05 5.43620671e-05 5.67043508e-05\n",
      " 5.91416295e-05 6.16774875e-05 6.43156324e-05 6.70598996e-05\n",
      " 6.99142555e-05 7.28828016e-05 7.59697791e-05 7.91795725e-05\n",
      " 8.25167139e-05 8.59858880e-05 8.95919357e-05 9.33398595e-05\n",
      " 9.72348278e-05 1.01282180e-04 1.05487430e-04 1.09856275e-04\n",
      " 1.14394597e-04 1.19108467e-04 1.24004157e-04 1.29088138e-04\n",
      " 1.34367089e-04 1.39847906e-04 1.45537701e-04 1.51443813e-04\n",
      " 1.57573813e-04 1.63935511e-04 1.70536959e-04 1.77386463e-04\n",
      " 1.84492586e-04 1.91864155e-04 1.99510270e-04 2.07440309e-04\n",
      " 2.15663936e-04 2.24191111e-04 2.33032092e-04 2.42197448e-04\n",
      " 2.51698064e-04 2.61545150e-04 2.71750248e-04 2.82325244e-04\n",
      " 2.93282371e-04 3.04634221e-04 3.16393754e-04 3.28574305e-04\n",
      " 3.41189596e-04 3.54253739e-04 3.67781255e-04 3.81787075e-04\n",
      " 3.96286554e-04 4.11295478e-04 4.26830079e-04 4.42907039e-04\n",
      " 4.59543504e-04 4.76757094e-04 4.94565913e-04 5.12988560e-04\n",
      " 5.32044139e-04 5.51752272e-04 5.72133108e-04 5.93207338e-04\n",
      " 6.14996199e-04 6.37521496e-04 6.60805604e-04 6.84871487e-04\n",
      " 7.09742705e-04 7.35443430e-04 7.61998457e-04 7.89433213e-04\n",
      " 8.17773777e-04 8.47046885e-04 8.77279948e-04 9.08501063e-04\n",
      " 9.40739024e-04 9.74023340e-04 1.00838424e-03 1.04385271e-03\n",
      " 1.08046046e-03 1.11823998e-03 1.15722454e-03 1.19744822e-03\n",
      " 1.23894586e-03 1.28175318e-03 1.32590668e-03 1.37144374e-03\n",
      " 1.41840261e-03 1.46682238e-03 1.51674306e-03 1.56820557e-03\n",
      " 1.62125172e-03 1.67592427e-03 1.73226693e-03 1.79032436e-03\n",
      " 1.85014222e-03 1.91176712e-03 1.97524671e-03 2.04062963e-03\n",
      " 2.10796558e-03 2.17730527e-03 2.24870050e-03 2.32220413e-03\n",
      " 2.39787011e-03 2.47575348e-03 2.55591040e-03 2.63839816e-03\n",
      " 2.72327519e-03 2.81060107e-03 2.90043655e-03 2.99284354e-03\n",
      " 3.08788517e-03 3.18562576e-03 3.28613083e-03 3.38946715e-03\n",
      " 3.49570271e-03 3.60490678e-03 3.71714984e-03 3.83250369e-03\n",
      " 3.95104138e-03 4.07283728e-03 4.19796703e-03 4.32650760e-03\n",
      " 4.45853728e-03 4.59413568e-03 4.73338375e-03 4.87636379e-03\n",
      " 5.02315943e-03 5.17385570e-03 5.32853895e-03 5.48729692e-03\n",
      " 5.65021873e-03 5.81739487e-03 5.98891723e-03 6.16487906e-03\n",
      " 6.34537503e-03 6.53050119e-03 6.72035498e-03 6.91503526e-03\n",
      " 7.11464225e-03 7.31927759e-03 7.52904433e-03 7.74404687e-03\n",
      " 7.96439105e-03 8.19018406e-03 8.42153448e-03 8.65855230e-03\n",
      " 8.90134884e-03 9.15003682e-03 9.40473029e-03 9.66554468e-03\n",
      " 9.93259675e-03 1.02060046e-02 1.04858876e-02 1.07723664e-02\n",
      " 1.10655632e-02 1.13656012e-02 1.16726049e-02 1.19867001e-02\n",
      " 1.23080140e-02 1.26366746e-02 1.29728116e-02 1.33165554e-02\n",
      " 1.36680379e-02 1.40273919e-02 1.43947515e-02 1.47702517e-02\n",
      " 1.51540287e-02 1.55462195e-02 1.59469624e-02 1.63563965e-02\n",
      " 1.67746618e-02 1.72018992e-02 1.76382506e-02 1.80838585e-02\n",
      " 1.85388665e-02 1.90034187e-02 1.94776600e-02 1.99617360e-02\n",
      " 2.04557929e-02 2.09599775e-02 2.14744372e-02 2.19993198e-02\n",
      " 2.25347735e-02 2.30809471e-02 2.36379896e-02 2.42060504e-02\n",
      " 2.47852791e-02 2.53758253e-02 2.59778391e-02 2.65914704e-02\n",
      " 2.72168692e-02 2.78541855e-02 2.85035691e-02 2.91651697e-02\n",
      " 2.98391368e-02 3.05256195e-02 3.12247667e-02 3.19367266e-02\n",
      " 3.26616471e-02 3.33996755e-02 3.41509585e-02 3.49156418e-02\n",
      " 3.56938707e-02 3.64857893e-02 3.72915409e-02 3.81112678e-02\n",
      " 3.89451110e-02 3.97932106e-02 4.06557052e-02 4.15327320e-02\n",
      " 4.24244269e-02 4.33309242e-02 4.42523567e-02 4.51888553e-02\n",
      " 4.61405491e-02 4.71075656e-02 4.80900299e-02 4.90880655e-02\n",
      " 5.01017932e-02 5.11313321e-02 5.21767985e-02 5.32383064e-02\n",
      " 5.43159674e-02 5.54098903e-02 5.65201811e-02 5.76469432e-02\n",
      " 5.87902768e-02 5.99502792e-02 6.11270446e-02 6.23206639e-02\n",
      " 6.35312247e-02 6.47588111e-02 6.60035037e-02 6.72653795e-02\n",
      " 6.85445117e-02 6.98409697e-02 7.11548190e-02 7.24861209e-02\n",
      " 7.38349328e-02 7.52013075e-02 7.65852939e-02 7.79869361e-02\n",
      " 7.94062739e-02 8.08433422e-02 8.22981714e-02 8.37707869e-02\n",
      " 8.52612093e-02 8.67694540e-02 8.82955314e-02 8.98394467e-02\n",
      " 9.14011996e-02 9.29807846e-02 9.45781905e-02 9.61934008e-02\n",
      " 9.78263929e-02 9.94771388e-02 1.01145604e-01 1.02831750e-01\n",
      " 1.04535529e-01 1.06256890e-01 1.07995775e-01 1.09752118e-01\n",
      " 1.11525850e-01 1.13316892e-01 1.15125161e-01 1.16950567e-01\n",
      " 1.18793013e-01 1.20652394e-01 1.22528601e-01 1.24421517e-01\n",
      " 1.26331016e-01 1.28256969e-01 1.30199236e-01 1.32157674e-01\n",
      " 1.34132129e-01 1.36122443e-01 1.38128449e-01 1.40149973e-01\n",
      " 1.42186834e-01 1.44238845e-01 1.46305809e-01 1.48387524e-01\n",
      " 1.50483779e-01 1.52594357e-01 1.54719033e-01 1.56857574e-01\n",
      " 1.59009741e-01 1.61175286e-01 1.63353954e-01 1.65545484e-01\n",
      " 1.67749605e-01 1.69966042e-01 1.72194509e-01 1.74434714e-01\n",
      " 1.76686359e-01 1.78949137e-01 1.81222735e-01 1.83506831e-01\n",
      " 1.85801097e-01 1.88105197e-01 1.90418790e-01 1.92741524e-01\n",
      " 1.95073045e-01 1.97412986e-01 1.99760979e-01 2.02116645e-01\n",
      " 2.04479600e-01 2.06849454e-01 2.09225807e-01 2.11608257e-01\n",
      " 2.13996392e-01 2.16389795e-01 2.18788043e-01 2.21190706e-01\n",
      " 2.23597349e-01 2.26007530e-01 2.28420802e-01 2.30836711e-01\n",
      " 2.33254798e-01 2.35674601e-01 2.38095648e-01 2.40517464e-01\n",
      " 2.42939571e-01 2.45361483e-01 2.47782710e-01 2.50202758e-01\n",
      " 2.52621129e-01 2.55037318e-01 2.57450819e-01 2.59861120e-01\n",
      " 2.62267707e-01 2.64670059e-01 2.67067655e-01 2.69459970e-01\n",
      " 2.71846473e-01 2.74226634e-01 2.76599918e-01 2.78965787e-01\n",
      " 2.81323703e-01 2.83673123e-01 2.86013503e-01 2.88344299e-01\n",
      " 2.90664962e-01 2.92974946e-01 2.95273699e-01 2.97560671e-01\n",
      " 2.99835312e-01 3.02097069e-01 3.04345390e-01 3.06579724e-01\n",
      " 3.08799517e-01 3.11004218e-01 3.13193276e-01 3.15366141e-01\n",
      " 3.17522263e-01 3.19661095e-01 3.21782090e-01 3.23884702e-01\n",
      " 3.25968391e-01 3.28032613e-01 3.30076832e-01 3.32100512e-01\n",
      " 3.34103120e-01 3.36084127e-01 3.38043006e-01 3.39979235e-01\n",
      " 3.41892294e-01 3.43781670e-01 3.45646851e-01 3.47487331e-01\n",
      " 3.49302609e-01 3.51092190e-01 3.52855580e-01 3.54592296e-01\n",
      " 3.56301856e-01 3.57983786e-01 3.59637619e-01 3.61262891e-01\n",
      " 3.62859148e-01 3.64425940e-01 3.65962827e-01 3.67469372e-01\n",
      " 3.68945149e-01 3.70389738e-01 3.71802727e-01 3.73183711e-01\n",
      " 3.74532294e-01 3.75848089e-01 3.77130715e-01 3.78379803e-01\n",
      " 3.79594991e-01 3.80775926e-01 3.81922264e-01 3.83033671e-01\n",
      " 3.84109822e-01 3.85150403e-01 3.86155108e-01 3.87123642e-01\n",
      " 3.88055720e-01 3.88951067e-01 3.89809419e-01 3.90630522e-01\n",
      " 3.91414133e-01 3.92160019e-01 3.92867960e-01 3.93537743e-01\n",
      " 3.94169171e-01 3.94762054e-01 3.95316217e-01 3.95831493e-01\n",
      " 3.96307728e-01 3.96744781e-01 3.97142519e-01 3.97500825e-01\n",
      " 3.97819591e-01 3.98098720e-01 3.98338130e-01 3.98537748e-01\n",
      " 3.98697514e-01 3.98817381e-01 3.98897312e-01 3.98937284e-01\n",
      " 3.98937284e-01 3.98897312e-01 3.98817381e-01 3.98697514e-01\n",
      " 3.98537748e-01 3.98338130e-01 3.98098720e-01 3.97819591e-01\n",
      " 3.97500825e-01 3.97142519e-01 3.96744781e-01 3.96307728e-01\n",
      " 3.95831493e-01 3.95316217e-01 3.94762054e-01 3.94169171e-01\n",
      " 3.93537743e-01 3.92867960e-01 3.92160019e-01 3.91414133e-01\n",
      " 3.90630522e-01 3.89809419e-01 3.88951067e-01 3.88055720e-01\n",
      " 3.87123642e-01 3.86155108e-01 3.85150403e-01 3.84109822e-01\n",
      " 3.83033671e-01 3.81922264e-01 3.80775926e-01 3.79594991e-01\n",
      " 3.78379803e-01 3.77130715e-01 3.75848089e-01 3.74532294e-01\n",
      " 3.73183711e-01 3.71802727e-01 3.70389738e-01 3.68945149e-01\n",
      " 3.67469372e-01 3.65962827e-01 3.64425940e-01 3.62859148e-01\n",
      " 3.61262891e-01 3.59637619e-01 3.57983786e-01 3.56301856e-01\n",
      " 3.54592296e-01 3.52855580e-01 3.51092190e-01 3.49302609e-01\n",
      " 3.47487331e-01 3.45646851e-01 3.43781670e-01 3.41892294e-01\n",
      " 3.39979235e-01 3.38043006e-01 3.36084127e-01 3.34103120e-01\n",
      " 3.32100512e-01 3.30076832e-01 3.28032613e-01 3.25968391e-01\n",
      " 3.23884702e-01 3.21782090e-01 3.19661095e-01 3.17522263e-01\n",
      " 3.15366141e-01 3.13193276e-01 3.11004218e-01 3.08799517e-01\n",
      " 3.06579724e-01 3.04345390e-01 3.02097069e-01 2.99835312e-01\n",
      " 2.97560671e-01 2.95273699e-01 2.92974946e-01 2.90664962e-01\n",
      " 2.88344299e-01 2.86013503e-01 2.83673123e-01 2.81323703e-01\n",
      " 2.78965787e-01 2.76599918e-01 2.74226634e-01 2.71846473e-01\n",
      " 2.69459970e-01 2.67067655e-01 2.64670059e-01 2.62267707e-01\n",
      " 2.59861120e-01 2.57450819e-01 2.55037318e-01 2.52621129e-01\n",
      " 2.50202758e-01 2.47782710e-01 2.45361483e-01 2.42939571e-01\n",
      " 2.40517464e-01 2.38095648e-01 2.35674601e-01 2.33254798e-01\n",
      " 2.30836711e-01 2.28420802e-01 2.26007530e-01 2.23597349e-01\n",
      " 2.21190706e-01 2.18788043e-01 2.16389795e-01 2.13996392e-01\n",
      " 2.11608257e-01 2.09225807e-01 2.06849454e-01 2.04479600e-01\n",
      " 2.02116645e-01 1.99760979e-01 1.97412986e-01 1.95073045e-01\n",
      " 1.92741524e-01 1.90418790e-01 1.88105197e-01 1.85801097e-01\n",
      " 1.83506831e-01 1.81222735e-01 1.78949137e-01 1.76686359e-01\n",
      " 1.74434714e-01 1.72194509e-01 1.69966042e-01 1.67749605e-01\n",
      " 1.65545484e-01 1.63353954e-01 1.61175286e-01 1.59009741e-01\n",
      " 1.56857574e-01 1.54719033e-01 1.52594357e-01 1.50483779e-01\n",
      " 1.48387524e-01 1.46305809e-01 1.44238845e-01 1.42186834e-01\n",
      " 1.40149973e-01 1.38128449e-01 1.36122443e-01 1.34132129e-01\n",
      " 1.32157674e-01 1.30199236e-01 1.28256969e-01 1.26331016e-01\n",
      " 1.24421517e-01 1.22528601e-01 1.20652394e-01 1.18793013e-01\n",
      " 1.16950567e-01 1.15125161e-01 1.13316892e-01 1.11525850e-01\n",
      " 1.09752118e-01 1.07995775e-01 1.06256890e-01 1.04535529e-01\n",
      " 1.02831750e-01 1.01145604e-01 9.94771388e-02 9.78263929e-02\n",
      " 9.61934008e-02 9.45781905e-02 9.29807846e-02 9.14011996e-02\n",
      " 8.98394467e-02 8.82955314e-02 8.67694540e-02 8.52612093e-02\n",
      " 8.37707869e-02 8.22981714e-02 8.08433422e-02 7.94062739e-02\n",
      " 7.79869361e-02 7.65852939e-02 7.52013075e-02 7.38349328e-02\n",
      " 7.24861209e-02 7.11548190e-02 6.98409697e-02 6.85445117e-02\n",
      " 6.72653795e-02 6.60035037e-02 6.47588111e-02 6.35312247e-02\n",
      " 6.23206639e-02 6.11270446e-02 5.99502792e-02 5.87902768e-02\n",
      " 5.76469432e-02 5.65201811e-02 5.54098903e-02 5.43159674e-02\n",
      " 5.32383064e-02 5.21767985e-02 5.11313321e-02 5.01017932e-02\n",
      " 4.90880655e-02 4.80900299e-02 4.71075656e-02 4.61405491e-02\n",
      " 4.51888553e-02 4.42523567e-02 4.33309242e-02 4.24244269e-02\n",
      " 4.15327320e-02 4.06557052e-02 3.97932106e-02 3.89451110e-02\n",
      " 3.81112678e-02 3.72915409e-02 3.64857893e-02 3.56938707e-02\n",
      " 3.49156418e-02 3.41509585e-02 3.33996755e-02 3.26616471e-02\n",
      " 3.19367266e-02 3.12247667e-02 3.05256195e-02 2.98391368e-02\n",
      " 2.91651697e-02 2.85035691e-02 2.78541855e-02 2.72168692e-02\n",
      " 2.65914704e-02 2.59778391e-02 2.53758253e-02 2.47852791e-02\n",
      " 2.42060504e-02 2.36379896e-02 2.30809471e-02 2.25347735e-02\n",
      " 2.19993198e-02 2.14744372e-02 2.09599775e-02 2.04557929e-02\n",
      " 1.99617360e-02 1.94776600e-02 1.90034187e-02 1.85388665e-02\n",
      " 1.80838585e-02 1.76382506e-02 1.72018992e-02 1.67746618e-02\n",
      " 1.63563965e-02 1.59469624e-02 1.55462195e-02 1.51540287e-02\n",
      " 1.47702517e-02 1.43947515e-02 1.40273919e-02 1.36680379e-02\n",
      " 1.33165554e-02 1.29728116e-02 1.26366746e-02 1.23080140e-02\n",
      " 1.19867001e-02 1.16726049e-02 1.13656012e-02 1.10655632e-02\n",
      " 1.07723664e-02 1.04858876e-02 1.02060046e-02 9.93259675e-03\n",
      " 9.66554468e-03 9.40473029e-03 9.15003682e-03 8.90134884e-03\n",
      " 8.65855230e-03 8.42153448e-03 8.19018406e-03 7.96439105e-03\n",
      " 7.74404687e-03 7.52904433e-03 7.31927759e-03 7.11464225e-03\n",
      " 6.91503526e-03 6.72035498e-03 6.53050119e-03 6.34537503e-03\n",
      " 6.16487906e-03 5.98891723e-03 5.81739487e-03 5.65021873e-03\n",
      " 5.48729692e-03 5.32853895e-03 5.17385570e-03 5.02315943e-03\n",
      " 4.87636379e-03 4.73338375e-03 4.59413568e-03 4.45853728e-03\n",
      " 4.32650760e-03 4.19796703e-03 4.07283728e-03 3.95104138e-03\n",
      " 3.83250369e-03 3.71714984e-03 3.60490678e-03 3.49570271e-03\n",
      " 3.38946715e-03 3.28613083e-03 3.18562576e-03 3.08788517e-03\n",
      " 2.99284354e-03 2.90043655e-03 2.81060107e-03 2.72327519e-03\n",
      " 2.63839816e-03 2.55591040e-03 2.47575348e-03 2.39787011e-03\n",
      " 2.32220413e-03 2.24870050e-03 2.17730527e-03 2.10796558e-03\n",
      " 2.04062963e-03 1.97524671e-03 1.91176712e-03 1.85014222e-03\n",
      " 1.79032436e-03 1.73226693e-03 1.67592427e-03 1.62125172e-03\n",
      " 1.56820557e-03 1.51674306e-03 1.46682238e-03 1.41840261e-03\n",
      " 1.37144374e-03 1.32590668e-03 1.28175318e-03 1.23894586e-03\n",
      " 1.19744822e-03 1.15722454e-03 1.11823998e-03 1.08046046e-03\n",
      " 1.04385271e-03 1.00838424e-03 9.74023340e-04 9.40739024e-04\n",
      " 9.08501063e-04 8.77279948e-04 8.47046885e-04 8.17773777e-04\n",
      " 7.89433213e-04 7.61998457e-04 7.35443430e-04 7.09742705e-04\n",
      " 6.84871487e-04 6.60805604e-04 6.37521496e-04 6.14996199e-04\n",
      " 5.93207338e-04 5.72133108e-04 5.51752272e-04 5.32044139e-04\n",
      " 5.12988560e-04 4.94565913e-04 4.76757094e-04 4.59543504e-04\n",
      " 4.42907039e-04 4.26830079e-04 4.11295478e-04 3.96286554e-04\n",
      " 3.81787075e-04 3.67781255e-04 3.54253739e-04 3.41189596e-04\n",
      " 3.28574305e-04 3.16393754e-04 3.04634221e-04 2.93282371e-04\n",
      " 2.82325244e-04 2.71750248e-04 2.61545150e-04 2.51698064e-04\n",
      " 2.42197448e-04 2.33032092e-04 2.24191111e-04 2.15663936e-04\n",
      " 2.07440309e-04 1.99510270e-04 1.91864155e-04 1.84492586e-04\n",
      " 1.77386463e-04 1.70536959e-04 1.63935511e-04 1.57573813e-04\n",
      " 1.51443813e-04 1.45537701e-04 1.39847906e-04 1.34367089e-04\n",
      " 1.29088138e-04 1.24004157e-04 1.19108467e-04 1.14394597e-04\n",
      " 1.09856275e-04 1.05487430e-04 1.01282180e-04 9.72348278e-05\n",
      " 9.33398595e-05 8.95919357e-05 8.59858880e-05 8.25167139e-05\n",
      " 7.91795725e-05 7.59697791e-05 7.28828016e-05 6.99142555e-05\n",
      " 6.70598996e-05 6.43156324e-05 6.16774875e-05 5.91416295e-05\n",
      " 5.67043508e-05 5.43620671e-05 5.21113142e-05 4.99487441e-05\n",
      " 4.78711216e-05 4.58753211e-05 4.39583229e-05 4.21172102e-05\n",
      " 4.03491658e-05 3.86514694e-05 3.70214940e-05 3.54567035e-05\n",
      " 3.39546498e-05 3.25129696e-05 3.11293824e-05 2.98016873e-05\n",
      " 2.85277610e-05 2.73055547e-05 2.61330924e-05 2.50084680e-05\n",
      " 2.39298433e-05 2.28954459e-05 2.19035668e-05 2.09525584e-05\n",
      " 2.00408326e-05 1.91668589e-05 1.83291622e-05 1.75263212e-05\n",
      " 1.67569666e-05 1.60197791e-05 1.53134881e-05 1.46368699e-05\n",
      " 1.39887459e-05 1.33679815e-05 1.27734842e-05 1.22042022e-05\n",
      " 1.16591234e-05 1.11372736e-05 1.06377152e-05 1.01595463e-05\n",
      " 9.70189908e-06 9.26393876e-06 8.84486240e-06 8.44389784e-06\n",
      " 8.06030255e-06 7.69336257e-06 7.34239154e-06 7.00672970e-06\n",
      " 6.68574289e-06 6.37882168e-06 6.08538047e-06 5.80485658e-06\n",
      " 5.53670947e-06 5.28041992e-06 5.03548920e-06 4.80143840e-06\n",
      " 4.57780761e-06 4.36415530e-06 4.16005756e-06 3.96510749e-06\n",
      " 3.77891458e-06 3.60110404e-06 3.43131624e-06 3.26920615e-06\n",
      " 3.11444274e-06 2.96670852e-06 2.82569895e-06 2.69112199e-06\n",
      " 2.56269761e-06 2.44015731e-06 2.32324372e-06 2.21171010e-06\n",
      " 2.10531999e-06 2.00384677e-06 1.90707332e-06 1.81479157e-06\n",
      " 1.72680223e-06 1.64291438e-06 1.56294518e-06 1.48671951e-06]\n"
     ]
    },
    {
     "data": {
      "text/plain": [
       "<Figure size 640x480 with 1 Axes>"
      ]
     },
     "metadata": {},
     "output_type": "display_data"
    }
   ],
   "source": [
    "import numpy as np\n",
    "import matplotlib.pyplot as plt\n",
    "from scipy.stats import norm\n",
    " \n",
    "mu, sigma = 0, 1  # Mean and standard deviation\n",
    "x = np.linspace(-5, 5, 1000)\n",
    "pdf = norm.pdf(x, mu, sigma)\n",
    "print(pdf)\n",
    "plt.plot(x, pdf, label='Normal Distribution')\n",
    "plt.title('PDF of the Normal Distribution')\n",
    "plt.xlabel('Value')\n",
    "plt.ylabel('Probability')\n",
    "plt.legend()\n",
    "plt.show()\n"
   ]
  },
  {
   "cell_type": "code",
   "execution_count": 34,
   "metadata": {
    "scrolled": true
   },
   "outputs": [
    {
     "name": "stdout",
     "output_type": "stream",
     "text": [
      "Return Value:\n",
      "[1.34627433e-02 7.24916949e-02 1.75652953e-01 2.52219625e-01\n",
      " 2.37668493e-01 1.53570411e-01 6.89097997e-02 2.12030153e-02\n",
      " 4.28137809e-03 5.12301651e-04 2.75854735e-05]\n"
     ]
    },
    {
     "data": {
      "text/plain": [
       "<BarContainer object of 11 artists>"
      ]
     },
     "execution_count": 34,
     "metadata": {},
     "output_type": "execute_result"
    },
    {
     "data": {
      "image/png": "[encoded data removed]",
      "text/plain": [
       "<Figure size 432x288 with 1 Axes>"
      ]
     },
     "metadata": {
      "needs_background": "light"
     },
     "output_type": "display_data"
    }
   ],
   "source": [
    "from scipy.stats import binom\n",
    "import matplotlib.pyplot as plt\n",
    "\n",
    "# n: the total number of trials or times the experiment will be carried out.\n",
    "# r: a list of integers from 0 to n, inclusive.\n",
    "# p: the probability that the outcome of a single experiment will be a success. \n",
    "# The value of p must be between 0 and 1, inclusive.\n",
    "n = 10\n",
    "p = 0.35\n",
    "#defining list of r values\n",
    "r= list(range(n + 1))\n",
    "#calling the binom.pmf function and printing its return value\n",
    "return_val=binom.pmf(r, n, p) #return_val is the pmf of r\n",
    "print('Return Value:')\n",
    "print(return_val)\n",
    "plt.bar(r,return_val)"
   ]
  },
  {
   "cell_type": "markdown",
   "metadata": {},
   "source": [
    "## Linear Regression\n",
    "        Regression is used to analyze / find the relationship between the variables. Eg. relationship between the salary and experience. \n",
    "        In simple linear regression, we predict scores on one variable based on results on another. The criteria variable Y is the variable we are predicting. Predictor variable X is the variable using which we are making our predictions.The prediction approach is known as simple regression.\n",
    "        Equation : y = mx + c\n",
    "        This is the simple linear regression equation where c is the constant and m is the slope and describes the relationship between x (independent variable) and y (dependent variable)."
   ]
  },
  {
   "cell_type": "code",
   "execution_count": 35,
   "metadata": {},
   "outputs": [
    {
     "name": "stdout",
     "output_type": "stream",
     "text": [
      "   YearsExperience   Salary\n",
      "0              1.1  39343.0\n",
      "1              1.3  46205.0\n",
      "2              1.5  37731.0\n",
      "3              2.0  43525.0\n",
      "4              2.2  39891.0\n"
     ]
    },
    {
     "data": {
      "text/html": [
       "<div>\n",
       "<style scoped>\n",
       "    .dataframe tbody tr th:only-of-type {\n",
       "        vertical-align: middle;\n",
       "    }\n",
       "\n",
       "    .dataframe tbody tr th {\n",
       "        vertical-align: top;\n",
       "    }\n",
       "\n",
       "    .dataframe thead th {\n",
       "        text-align: right;\n",
       "    }\n",
       "</style>\n",
       "<table border=\"1\" class=\"dataframe\">\n",
       "  <thead>\n",
       "    <tr style=\"text-align: right;\">\n",
       "      <th></th>\n",
       "      <th>YearsExperience</th>\n",
       "      <th>Salary</th>\n",
       "    </tr>\n",
       "  </thead>\n",
       "  <tbody>\n",
       "    <tr>\n",
       "      <td>count</td>\n",
       "      <td>30.000000</td>\n",
       "      <td>30.000000</td>\n",
       "    </tr>\n",
       "    <tr>\n",
       "      <td>mean</td>\n",
       "      <td>5.313333</td>\n",
       "      <td>76003.000000</td>\n",
       "    </tr>\n",
       "    <tr>\n",
       "      <td>std</td>\n",
       "      <td>2.837888</td>\n",
       "      <td>27414.429785</td>\n",
       "    </tr>\n",
       "    <tr>\n",
       "      <td>min</td>\n",
       "      <td>1.100000</td>\n",
       "      <td>37731.000000</td>\n",
       "    </tr>\n",
       "    <tr>\n",
       "      <td>25%</td>\n",
       "      <td>3.200000</td>\n",
       "      <td>56720.750000</td>\n",
       "    </tr>\n",
       "    <tr>\n",
       "      <td>50%</td>\n",
       "      <td>4.700000</td>\n",
       "      <td>65237.000000</td>\n",
       "    </tr>\n",
       "    <tr>\n",
       "      <td>75%</td>\n",
       "      <td>7.700000</td>\n",
       "      <td>100544.750000</td>\n",
       "    </tr>\n",
       "    <tr>\n",
       "      <td>max</td>\n",
       "      <td>10.500000</td>\n",
       "      <td>122391.000000</td>\n",
       "    </tr>\n",
       "  </tbody>\n",
       "</table>\n",
       "</div>"
      ],
      "text/plain": [
       "       YearsExperience         Salary\n",
       "count        30.000000      30.000000\n",
       "mean          5.313333   76003.000000\n",
       "std           2.837888   27414.429785\n",
       "min           1.100000   37731.000000\n",
       "25%           3.200000   56720.750000\n",
       "50%           4.700000   65237.000000\n",
       "75%           7.700000  100544.750000\n",
       "max          10.500000  122391.000000"
      ]
     },
     "execution_count": 35,
     "metadata": {},
     "output_type": "execute_result"
    }
   ],
   "source": [
    "import pandas as pd\n",
    "import numpy as np\n",
    "import matplotlib.pyplot as plt\n",
    "import seaborn as sns\n",
    "from sklearn.model_selection import train_test_split\n",
    "from pandas.core.common import random_state\n",
    "from sklearn.linear_model import LinearRegression\n",
    "\n",
    "# Get dataset\n",
    "df_sal = pd.read_csv('Salary_Data.csv')\n",
    "print(df_sal.head())\n",
    "\n",
    "# Describe data\n",
    "df_sal.describe()"
   ]
  },
  {
   "cell_type": "code",
   "execution_count": 36,
   "metadata": {},
   "outputs": [
    {
     "data": {
      "image/png": "[encoded data removed]",
      "text/plain": [
       "<Figure size 432x288 with 1 Axes>"
      ]
     },
     "metadata": {
      "needs_background": "light"
     },
     "output_type": "display_data"
    },
    {
     "data": {
      "image/png": "[encoded data removed]",
      "text/plain": [
       "<Figure size 432x288 with 1 Axes>"
      ]
     },
     "metadata": {
      "needs_background": "light"
     },
     "output_type": "display_data"
    }
   ],
   "source": [
    "# Data distribution\n",
    "plt.title('Salary Distribution Plot')\n",
    "sns.distplot(df_sal['Salary'])\n",
    "plt.show()\n",
    "\n",
    "# Relationship between Salary and Experience\n",
    "plt.scatter(df_sal['YearsExperience'], df_sal['Salary'], color = 'lightcoral')\n",
    "plt.title('Salary vs Experience')\n",
    "plt.xlabel('Years of Experience')\n",
    "plt.ylabel('Salary')\n",
    "plt.box(False)\n",
    "plt.show()"
   ]
  },
  {
   "cell_type": "code",
   "execution_count": 37,
   "metadata": {},
   "outputs": [],
   "source": [
    "# Splitting variables\n",
    "X = df_sal.iloc[:, :1]  # independent\n",
    "y = df_sal.iloc[:, 1:]  # dependent\n",
    "# print(X)\n",
    "# print(y)\n",
    "# Splitting dataset into test/train\n",
    "X_train, X_test, y_train, y_test = train_test_split(X, y, test_size = 0.2, random_state = 0)"
   ]
  },
  {
   "cell_type": "code",
   "execution_count": 38,
   "metadata": {},
   "outputs": [
    {
     "data": {
      "text/plain": [
       "LinearRegression(copy_X=True, fit_intercept=True, n_jobs=None, normalize=False)"
      ]
     },
     "execution_count": 38,
     "metadata": {},
     "output_type": "execute_result"
    }
   ],
   "source": [
    "# Regressor model\n",
    "regressor = LinearRegression()\n",
    "regressor.fit(X_train, y_train)"
   ]
  },
  {
   "cell_type": "code",
   "execution_count": 39,
   "metadata": {},
   "outputs": [],
   "source": [
    "# Prediction result\n",
    "y_pred_test = regressor.predict(X_test)     # predicted value of y_test\n",
    "y_pred_train = regressor.predict(X_train)   # predicted value of y_train\n"
   ]
  },
  {
   "cell_type": "code",
   "execution_count": null,
   "metadata": {},
   "outputs": [],
   "source": []
  },
  {
   "cell_type": "code",
   "execution_count": 40,
   "metadata": {},
   "outputs": [
    {
     "data": {
      "image/png": "[encoded data removed]",
      "text/plain": [
       "<Figure size 432x288 with 1 Axes>"
      ]
     },
     "metadata": {
      "needs_background": "light"
     },
     "output_type": "display_data"
    }
   ],
   "source": [
    "# Prediction on training set\n",
    "plt.scatter(X_train, y_train, color = 'darkcyan')\n",
    "plt.plot(X_train, y_pred_train, color = 'firebrick')\n",
    "plt.title('Salary vs Experience (Training Set)')\n",
    "plt.xlabel('Years of Experience')\n",
    "plt.ylabel('Salary')\n",
    "plt.legend(['X_train/Pred(y_test)', 'X_train/y_train'], title = 'Sal/Exp', loc='best', facecolor='white')\n",
    "plt.box(False)\n",
    "plt.show()"
   ]
  },
  {
   "cell_type": "code",
   "execution_count": 41,
   "metadata": {},
   "outputs": [
    {
     "data": {
      "image/png": "[encoded data removed]",
      "text/plain": [
       "<Figure size 432x288 with 1 Axes>"
      ]
     },
     "metadata": {
      "needs_background": "light"
     },
     "output_type": "display_data"
    }
   ],
   "source": [
    "# Prediction on test set\n",
    "plt.scatter(X_test, y_test, color = 'darkcyan')\n",
    "plt.plot(X_train, y_pred_train, color = 'firebrick')\n",
    "plt.title('Salary vs Experience (Test Set)')\n",
    "plt.xlabel('Years of Experience')\n",
    "plt.ylabel('Salary')\n",
    "plt.legend(['X_train/Pred(y_test)', 'X_train/y_train'], title = 'Sal/Exp', loc='best', facecolor='white')\n",
    "plt.box(False)\n",
    "plt.show()"
   ]
  },
  {
   "cell_type": "markdown",
   "metadata": {},
   "source": [
    "## Polynomial Regression\n",
    "        Polynomial Regression is a type of regression analysis in which the relationship between the independent variable x and the dependent variable y is modeled as an nth-degree polynomial.\n",
    "        In Polynomial Regression, the relationship between x and y is represented by a polynomial equation, which can capture more complex relationships, including curvature and other non-linear patterns."
   ]
  },
  {
   "cell_type": "code",
   "execution_count": 42,
   "metadata": {},
   "outputs": [],
   "source": [
    "# Import libraries - Repeated, but to go with the flow\n",
    "import pandas as pd\n",
    "import numpy as np\n",
    "import matplotlib.pyplot as plt\n",
    "import seaborn as sns\n",
    "from sklearn.model_selection import train_test_split\n",
    "from sklearn.preprocessing import PolynomialFeatures\n",
    "from sklearn.linear_model import LinearRegression"
   ]
  },
  {
   "cell_type": "code",
   "execution_count": 43,
   "metadata": {},
   "outputs": [
    {
     "data": {
      "text/html": [
       "<div>\n",
       "<style scoped>\n",
       "    .dataframe tbody tr th:only-of-type {\n",
       "        vertical-align: middle;\n",
       "    }\n",
       "\n",
       "    .dataframe tbody tr th {\n",
       "        vertical-align: top;\n",
       "    }\n",
       "\n",
       "    .dataframe thead th {\n",
       "        text-align: right;\n",
       "    }\n",
       "</style>\n",
       "<table border=\"1\" class=\"dataframe\">\n",
       "  <thead>\n",
       "    <tr style=\"text-align: right;\">\n",
       "      <th></th>\n",
       "      <th>Position</th>\n",
       "      <th>Level</th>\n",
       "      <th>Salary</th>\n",
       "    </tr>\n",
       "  </thead>\n",
       "  <tbody>\n",
       "    <tr>\n",
       "      <td>0</td>\n",
       "      <td>Business Analyst</td>\n",
       "      <td>1</td>\n",
       "      <td>45000</td>\n",
       "    </tr>\n",
       "    <tr>\n",
       "      <td>1</td>\n",
       "      <td>Junior Consultant</td>\n",
       "      <td>2</td>\n",
       "      <td>50000</td>\n",
       "    </tr>\n",
       "    <tr>\n",
       "      <td>2</td>\n",
       "      <td>Senior Consultant</td>\n",
       "      <td>3</td>\n",
       "      <td>60000</td>\n",
       "    </tr>\n",
       "    <tr>\n",
       "      <td>3</td>\n",
       "      <td>Manager</td>\n",
       "      <td>4</td>\n",
       "      <td>80000</td>\n",
       "    </tr>\n",
       "    <tr>\n",
       "      <td>4</td>\n",
       "      <td>Country Manager</td>\n",
       "      <td>5</td>\n",
       "      <td>110000</td>\n",
       "    </tr>\n",
       "  </tbody>\n",
       "</table>\n",
       "</div>"
      ],
      "text/plain": [
       "            Position  Level  Salary\n",
       "0   Business Analyst      1   45000\n",
       "1  Junior Consultant      2   50000\n",
       "2  Senior Consultant      3   60000\n",
       "3            Manager      4   80000\n",
       "4    Country Manager      5  110000"
      ]
     },
     "execution_count": 43,
     "metadata": {},
     "output_type": "execute_result"
    }
   ],
   "source": [
    "# Get dataset\n",
    "df_sal = pd.read_csv('Position_Salaries.csv')\n",
    "df_sal.head()"
   ]
  },
  {
   "cell_type": "code",
   "execution_count": 44,
   "metadata": {},
   "outputs": [
    {
     "data": {
      "text/html": [
       "<div>\n",
       "<style scoped>\n",
       "    .dataframe tbody tr th:only-of-type {\n",
       "        vertical-align: middle;\n",
       "    }\n",
       "\n",
       "    .dataframe tbody tr th {\n",
       "        vertical-align: top;\n",
       "    }\n",
       "\n",
       "    .dataframe thead th {\n",
       "        text-align: right;\n",
       "    }\n",
       "</style>\n",
       "<table border=\"1\" class=\"dataframe\">\n",
       "  <thead>\n",
       "    <tr style=\"text-align: right;\">\n",
       "      <th></th>\n",
       "      <th>Level</th>\n",
       "      <th>Salary</th>\n",
       "    </tr>\n",
       "  </thead>\n",
       "  <tbody>\n",
       "    <tr>\n",
       "      <td>count</td>\n",
       "      <td>10.00000</td>\n",
       "      <td>10.000000</td>\n",
       "    </tr>\n",
       "    <tr>\n",
       "      <td>mean</td>\n",
       "      <td>5.50000</td>\n",
       "      <td>249500.000000</td>\n",
       "    </tr>\n",
       "    <tr>\n",
       "      <td>std</td>\n",
       "      <td>3.02765</td>\n",
       "      <td>299373.883668</td>\n",
       "    </tr>\n",
       "    <tr>\n",
       "      <td>min</td>\n",
       "      <td>1.00000</td>\n",
       "      <td>45000.000000</td>\n",
       "    </tr>\n",
       "    <tr>\n",
       "      <td>25%</td>\n",
       "      <td>3.25000</td>\n",
       "      <td>65000.000000</td>\n",
       "    </tr>\n",
       "    <tr>\n",
       "      <td>50%</td>\n",
       "      <td>5.50000</td>\n",
       "      <td>130000.000000</td>\n",
       "    </tr>\n",
       "    <tr>\n",
       "      <td>75%</td>\n",
       "      <td>7.75000</td>\n",
       "      <td>275000.000000</td>\n",
       "    </tr>\n",
       "    <tr>\n",
       "      <td>max</td>\n",
       "      <td>10.00000</td>\n",
       "      <td>1000000.000000</td>\n",
       "    </tr>\n",
       "  </tbody>\n",
       "</table>\n",
       "</div>"
      ],
      "text/plain": [
       "          Level          Salary\n",
       "count  10.00000       10.000000\n",
       "mean    5.50000   249500.000000\n",
       "std     3.02765   299373.883668\n",
       "min     1.00000    45000.000000\n",
       "25%     3.25000    65000.000000\n",
       "50%     5.50000   130000.000000\n",
       "75%     7.75000   275000.000000\n",
       "max    10.00000  1000000.000000"
      ]
     },
     "execution_count": 44,
     "metadata": {},
     "output_type": "execute_result"
    }
   ],
   "source": [
    "# Describe data\n",
    "df_sal.describe()"
   ]
  },
  {
   "cell_type": "code",
   "execution_count": 45,
   "metadata": {},
   "outputs": [
    {
     "data": {
      "image/png": "[encoded data removed]",
      "text/plain": [
       "<Figure size 432x288 with 1 Axes>"
      ]
     },
     "metadata": {
      "needs_background": "light"
     },
     "output_type": "display_data"
    }
   ],
   "source": [
    "# Relationship between Salary and Level\n",
    "plt.scatter(df_sal['Level'], df_sal['Salary'], color = 'lightcoral')\n",
    "plt.title('Salary vs Level')\n",
    "plt.xlabel('Level')\n",
    "plt.ylabel('Salary')\n",
    "plt.box(False)\n",
    "plt.show()"
   ]
  },
  {
   "cell_type": "code",
   "execution_count": 46,
   "metadata": {},
   "outputs": [
    {
     "name": "stdout",
     "output_type": "stream",
     "text": [
      "[[ 1]\n",
      " [ 2]\n",
      " [ 3]\n",
      " [ 4]\n",
      " [ 5]\n",
      " [ 6]\n",
      " [ 7]\n",
      " [ 8]\n",
      " [ 9]\n",
      " [10]]\n",
      "[  45000   50000   60000   80000  110000  150000  200000  300000  500000\n",
      " 1000000]\n"
     ]
    }
   ],
   "source": [
    "# Splitting variables\n",
    "# Splitting variables\n",
    "X = df_sal.iloc[:, 1:-1].values  # independent\n",
    "y = df_sal.iloc[:, -1].values  # dependent\n",
    "print(X)\n",
    "print(y)"
   ]
  },
  {
   "cell_type": "code",
   "execution_count": 47,
   "metadata": {},
   "outputs": [],
   "source": [
    "from sklearn.preprocessing import PolynomialFeatures\n",
    "# Train linear regression model on whole dataset\n",
    "lr = LinearRegression()\n",
    "lr.fit(X, y)\n",
    "\n",
    "# Train polynomial regression model on the whole dataset\n",
    "pr = PolynomialFeatures(degree = 2)\n",
    "#PolynomialFeatures takes the original feature matrix and transforms it into \n",
    "#a new matrix containing all possible polynomial combinations of the \n",
    "#features up to a specified degree\n",
    "X_poly = pr.fit_transform(X)\n",
    "lr_2 = LinearRegression()\n",
    "lr_2.fit(X_poly, y)\n",
    "\n",
    "# Predict results\n",
    "y_pred_lr = lr.predict(X)           # Linear Regression\n",
    "y_pred_poly = lr_2.predict(X_poly)  # Polynomial Regression"
   ]
  },
  {
   "cell_type": "code",
   "execution_count": 51,
   "metadata": {},
   "outputs": [
    {
     "data": {
      "image/png": "[encoded data removed]",
      "text/plain": [
       "<Figure size 432x288 with 1 Axes>"
      ]
     },
     "metadata": {
      "needs_background": "light"
     },
     "output_type": "display_data"
    }
   ],
   "source": [
    "# Visualize real data with linear regression\n",
    "plt.scatter(X, y, color = 'lightcoral')\n",
    "plt.plot(X, lr_2.predict(X_poly), color = 'firebrick')\n",
    "plt.title('Polynomial Regression (Non-Linear Regression)')\n",
    "plt.xlabel('Position Level')\n",
    "plt.ylabel('Salary')\n",
    "plt.legend(['X/y_pred_lr', 'X/y'], title = 'Salary/Level', loc='best', facecolor='white')\n",
    "plt.box(False)\n",
    "plt.show()"
   ]
  }
 ],
 "metadata": {
  "kernelspec": {
   "display_name": "Python 3",
   "language": "python",
   "name": "python3"
  },
  "language_info": {
   "codemirror_mode": {
    "name": "ipython",
    "version": 3
   },
   "file_extension": ".py",
   "mimetype": "text/x-python",
   "name": "python",
   "nbconvert_exporter": "python",
   "pygments_lexer": "ipython3",
   "version": "3.7.4"
  }
 },
 "nbformat": 4,
 "nbformat_minor": 2
}
